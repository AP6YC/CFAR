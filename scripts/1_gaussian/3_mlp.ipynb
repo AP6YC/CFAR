{
 "cells": [
  {
   "cell_type": "code",
   "execution_count": 1,
   "metadata": {},
   "outputs": [],
   "source": [
    "from utils import (\n",
    "    results_dir,\n",
    "    data_dir,\n",
    ")"
   ]
  },
  {
   "cell_type": "code",
   "execution_count": 2,
   "metadata": {},
   "outputs": [],
   "source": [
    "EXP_NAME = \"1_gaussian\"\n",
    "DATA_FILE = \"df.arrow\"\n",
    "\n",
    "# Point to the data and results directories for this disease\n",
    "local_data_dir = data_dir(EXP_NAME)\n",
    "local_results_dir = results_dir(EXP_NAME)\n",
    "def input_dir(*args): return local_data_dir.joinpath(*args)\n",
    "def output_dir(*args): return local_results_dir.joinpath(*args)\n",
    "data_file = output_dir(DATA_FILE)"
   ]
  },
  {
   "cell_type": "code",
   "execution_count": 3,
   "metadata": {},
   "outputs": [
    {
     "name": "stdout",
     "output_type": "stream",
     "text": [
      "True\n",
      "..\\..\\work\\results\\1_gaussian\\df.arrow\n"
     ]
    }
   ],
   "source": [
    "print(data_file.exists())\n",
    "print(data_file)"
   ]
  },
  {
   "cell_type": "code",
   "execution_count": 13,
   "metadata": {},
   "outputs": [
    {
     "data": {
      "text/plain": [
       "'12.0.1'"
      ]
     },
     "execution_count": 13,
     "metadata": {},
     "output_type": "execute_result"
    }
   ],
   "source": [
    "# context = pa.SerializationContext()\n",
    "# pa.__version__"
   ]
  },
  {
   "cell_type": "code",
   "execution_count": 4,
   "metadata": {},
   "outputs": [
    {
     "ename": "ArrowInvalid",
     "evalue": "Not a Feather V1 or Arrow IPC file",
     "output_type": "error",
     "traceback": [
      "\u001b[1;31m---------------------------------------------------------------------------\u001b[0m",
      "\u001b[1;31mArrowInvalid\u001b[0m                              Traceback (most recent call last)",
      "Cell \u001b[1;32mIn[4], line 3\u001b[0m\n\u001b[0;32m      1\u001b[0m \u001b[39mimport\u001b[39;00m \u001b[39mpyarrow\u001b[39;00m\u001b[39m.\u001b[39;00m\u001b[39mfeather\u001b[39;00m \u001b[39mas\u001b[39;00m \u001b[39mfeather\u001b[39;00m\n\u001b[1;32m----> 3\u001b[0m feather\u001b[39m.\u001b[39;49mread_feather(data_file)\n",
      "File \u001b[1;32mc:\\Users\\Sasha\\Anaconda3\\envs\\cfar\\Lib\\site-packages\\pyarrow\\feather.py:226\u001b[0m, in \u001b[0;36mread_feather\u001b[1;34m(source, columns, use_threads, memory_map, **kwargs)\u001b[0m\n\u001b[0;32m    199\u001b[0m \u001b[39mdef\u001b[39;00m \u001b[39mread_feather\u001b[39m(source, columns\u001b[39m=\u001b[39m\u001b[39mNone\u001b[39;00m, use_threads\u001b[39m=\u001b[39m\u001b[39mTrue\u001b[39;00m,\n\u001b[0;32m    200\u001b[0m                  memory_map\u001b[39m=\u001b[39m\u001b[39mFalse\u001b[39;00m, \u001b[39m*\u001b[39m\u001b[39m*\u001b[39mkwargs):\n\u001b[0;32m    201\u001b[0m \u001b[39m    \u001b[39m\u001b[39m\"\"\"\u001b[39;00m\n\u001b[0;32m    202\u001b[0m \u001b[39m    Read a pandas.DataFrame from Feather format. To read as pyarrow.Table use\u001b[39;00m\n\u001b[0;32m    203\u001b[0m \u001b[39m    feather.read_table.\u001b[39;00m\n\u001b[1;32m   (...)\u001b[0m\n\u001b[0;32m    224\u001b[0m \u001b[39m        The contents of the Feather file as a pandas.DataFrame\u001b[39;00m\n\u001b[0;32m    225\u001b[0m \u001b[39m    \"\"\"\u001b[39;00m\n\u001b[1;32m--> 226\u001b[0m     \u001b[39mreturn\u001b[39;00m (read_table(\n\u001b[0;32m    227\u001b[0m         source, columns\u001b[39m=\u001b[39;49mcolumns, memory_map\u001b[39m=\u001b[39;49mmemory_map,\n\u001b[0;32m    228\u001b[0m         use_threads\u001b[39m=\u001b[39;49muse_threads)\u001b[39m.\u001b[39mto_pandas(use_threads\u001b[39m=\u001b[39muse_threads, \u001b[39m*\u001b[39m\u001b[39m*\u001b[39mkwargs))\n",
      "File \u001b[1;32mc:\\Users\\Sasha\\Anaconda3\\envs\\cfar\\Lib\\site-packages\\pyarrow\\feather.py:252\u001b[0m, in \u001b[0;36mread_table\u001b[1;34m(source, columns, memory_map, use_threads)\u001b[0m\n\u001b[0;32m    231\u001b[0m \u001b[39mdef\u001b[39;00m \u001b[39mread_table\u001b[39m(source, columns\u001b[39m=\u001b[39m\u001b[39mNone\u001b[39;00m, memory_map\u001b[39m=\u001b[39m\u001b[39mFalse\u001b[39;00m, use_threads\u001b[39m=\u001b[39m\u001b[39mTrue\u001b[39;00m):\n\u001b[0;32m    232\u001b[0m \u001b[39m    \u001b[39m\u001b[39m\"\"\"\u001b[39;00m\n\u001b[0;32m    233\u001b[0m \u001b[39m    Read a pyarrow.Table from Feather format\u001b[39;00m\n\u001b[0;32m    234\u001b[0m \n\u001b[1;32m   (...)\u001b[0m\n\u001b[0;32m    250\u001b[0m \u001b[39m        The contents of the Feather file as a pyarrow.Table\u001b[39;00m\n\u001b[0;32m    251\u001b[0m \u001b[39m    \"\"\"\u001b[39;00m\n\u001b[1;32m--> 252\u001b[0m     reader \u001b[39m=\u001b[39m _feather\u001b[39m.\u001b[39;49mFeatherReader(\n\u001b[0;32m    253\u001b[0m         source, use_memory_map\u001b[39m=\u001b[39;49mmemory_map, use_threads\u001b[39m=\u001b[39;49muse_threads)\n\u001b[0;32m    255\u001b[0m     \u001b[39mif\u001b[39;00m columns \u001b[39mis\u001b[39;00m \u001b[39mNone\u001b[39;00m:\n\u001b[0;32m    256\u001b[0m         \u001b[39mreturn\u001b[39;00m reader\u001b[39m.\u001b[39mread()\n",
      "File \u001b[1;32mc:\\Users\\Sasha\\Anaconda3\\envs\\cfar\\Lib\\site-packages\\pyarrow\\_feather.pyx:79\u001b[0m, in \u001b[0;36mpyarrow._feather.FeatherReader.__cinit__\u001b[1;34m()\u001b[0m\n",
      "File \u001b[1;32mc:\\Users\\Sasha\\Anaconda3\\envs\\cfar\\Lib\\site-packages\\pyarrow\\error.pxi:144\u001b[0m, in \u001b[0;36mpyarrow.lib.pyarrow_internal_check_status\u001b[1;34m()\u001b[0m\n",
      "File \u001b[1;32mc:\\Users\\Sasha\\Anaconda3\\envs\\cfar\\Lib\\site-packages\\pyarrow\\error.pxi:100\u001b[0m, in \u001b[0;36mpyarrow.lib.check_status\u001b[1;34m()\u001b[0m\n",
      "\u001b[1;31mArrowInvalid\u001b[0m: Not a Feather V1 or Arrow IPC file"
     ]
    }
   ],
   "source": [
    "import pyarrow.feather as feather\n",
    "\n",
    "feather.read_feather(data_file)"
   ]
  },
  {
   "cell_type": "code",
   "execution_count": 19,
   "metadata": {},
   "outputs": [
    {
     "name": "stderr",
     "output_type": "stream",
     "text": [
      "C:\\Users\\Sasha\\AppData\\Local\\Temp\\ipykernel_31824\\2698693162.py:15: FutureWarning: 'pyarrow.SerializationContext' is deprecated and will be removed in a future version. Use pickle or the pyarrow IPC functionality instead.\n",
      "  context = pa.SerializationContext()\n"
     ]
    },
    {
     "ename": "TypeError",
     "evalue": "expected bytes, WindowsPath found",
     "output_type": "error",
     "traceback": [
      "\u001b[1;31m---------------------------------------------------------------------------\u001b[0m",
      "\u001b[1;31mTypeError\u001b[0m                                 Traceback (most recent call last)",
      "Cell \u001b[1;32mIn[19], line 31\u001b[0m\n\u001b[0;32m     16\u001b[0m context\u001b[39m.\u001b[39mregister_type(\n\u001b[0;32m     17\u001b[0m     SerializedFeatures,\n\u001b[0;32m     18\u001b[0m     \u001b[39m'\u001b[39m\u001b[39mSerializedFeatures\u001b[39m\u001b[39m'\u001b[39m,\n\u001b[0;32m     19\u001b[0m     custom_serializer\u001b[39m=\u001b[39m_serialize_SerializedFeatures,\n\u001b[0;32m     20\u001b[0m     custom_deserializer\u001b[39m=\u001b[39m_deserialize_SerializedFeatures,\n\u001b[0;32m     21\u001b[0m )\n\u001b[0;32m     22\u001b[0m \u001b[39m# buf = pa.serialize(val)\u001b[39;00m\n\u001b[0;32m     23\u001b[0m \u001b[39m# with open(data_file, 'r') as f:\u001b[39;00m\n\u001b[0;32m     24\u001b[0m \u001b[39m#     pa.deserialize_from(f, context=context)\u001b[39;00m\n\u001b[1;32m   (...)\u001b[0m\n\u001b[0;32m     28\u001b[0m \n\u001b[0;32m     29\u001b[0m \u001b[39m# df = pd.read_csv(data_file, engine=\"pyarrow\")\u001b[39;00m\n\u001b[1;32m---> 31\u001b[0m file_obj \u001b[39m=\u001b[39m pa\u001b[39m.\u001b[39;49mOSFile(data_file)\n\u001b[0;32m     32\u001b[0m val \u001b[39m=\u001b[39m SerializedFeatures([\u001b[39m1\u001b[39m,\u001b[39m2\u001b[39m,\u001b[39m3\u001b[39m], [\u001b[39m4\u001b[39m,\u001b[39m5\u001b[39m,\u001b[39m6\u001b[39m])\n\u001b[0;32m     33\u001b[0m \u001b[39m# val = [1,2,3]\u001b[39;00m\n",
      "File \u001b[1;32mc:\\Users\\Sasha\\Anaconda3\\envs\\cfar\\Lib\\site-packages\\pyarrow\\io.pxi:992\u001b[0m, in \u001b[0;36mpyarrow.lib.OSFile.__cinit__\u001b[1;34m()\u001b[0m\n",
      "File \u001b[1;32mstringsource:15\u001b[0m, in \u001b[0;36mstring.from_py.__pyx_convert_string_from_py_std__in_string\u001b[1;34m()\u001b[0m\n",
      "\u001b[1;31mTypeError\u001b[0m: expected bytes, WindowsPath found"
     ]
    }
   ],
   "source": [
    "import pyarrow as pa\n",
    "import pandas as pd\n",
    "\n",
    "# class SerializedFeatures:\n",
    "#     def __init__(self, dim1, dim2):\n",
    "#         self.dim1 = dim1\n",
    "#         self.dim2 = dim2\n",
    "\n",
    "# def _serialize_SerializedFeatures(val):\n",
    "#     return {'dim1': val.dim1, 'dim2': val.dim2}\n",
    "\n",
    "# def _deserialize_SerializedFeatures(data):\n",
    "#     return SerializedFeatures(data['dim1'], data['dim2'])\n",
    "\n",
    "# context = pa.SerializationContext()\n",
    "# context.register_type(\n",
    "#     SerializedFeatures,\n",
    "#     'SerializedFeatures',\n",
    "#     custom_serializer=_serialize_SerializedFeatures,\n",
    "#     custom_deserializer=_deserialize_SerializedFeatures,\n",
    "# )\n",
    "\n",
    "\n",
    "\n",
    "# buf = pa.serialize(val)\n",
    "# with open(data_file, 'r') as f:\n",
    "#     pa.deserialize_from(f, context=context)\n",
    "\n",
    "# df = pd.read_feather(data_file, dtype_backend=\"pyarrow\")\n",
    "# pa.feather.read_table(data_file, context=context)\n",
    "\n",
    "# df = pd.read_csv(data_file, engine=\"pyarrow\")\n",
    "\n",
    "# file_obj = pa.OSFile(data_file)\n",
    "# val = SerializedFeatures([1,2,3], [4,5,6])\n",
    "# # val = [1,2,3]\n",
    "# buf = context.serialize(val).to_buffer()\n",
    "# restored_val = context.deserialize(buf)\n",
    "\n",
    "# mt = context.deserialize(file_obj)"
   ]
  },
  {
   "cell_type": "code",
   "execution_count": 26,
   "metadata": {},
   "outputs": [
    {
     "ename": "TypeError",
     "evalue": "expected bytes, WindowsPath found",
     "output_type": "error",
     "traceback": [
      "\u001b[1;31m---------------------------------------------------------------------------\u001b[0m",
      "\u001b[1;31mTypeError\u001b[0m                                 Traceback (most recent call last)",
      "Cell \u001b[1;32mIn[26], line 6\u001b[0m\n\u001b[0;32m      1\u001b[0m \u001b[39m# file_obj = pa.OSFile(data_file)\u001b[39;00m\n\u001b[0;32m      2\u001b[0m \u001b[39m# file_obj\u001b[39;00m\n\u001b[0;32m      3\u001b[0m \u001b[39m# with pa.ipc.open_file(data_file) as reader:\u001b[39;00m\n\u001b[0;32m      4\u001b[0m     \u001b[39m# ms = context.deserialize(reader)\u001b[39;00m\n\u001b[0;32m      5\u001b[0m     \u001b[39m# df = reader.read_pandas(context=context)\u001b[39;00m\n\u001b[1;32m----> 6\u001b[0m \u001b[39mwith\u001b[39;00m pa\u001b[39m.\u001b[39;49mOSFile(data_file, \u001b[39m'\u001b[39;49m\u001b[39mr\u001b[39;49m\u001b[39m'\u001b[39;49m) \u001b[39mas\u001b[39;00m reader:\n\u001b[0;32m      7\u001b[0m     \u001b[39mprint\u001b[39m(reader)\n",
      "File \u001b[1;32mc:\\Users\\Sasha\\Anaconda3\\envs\\cfar\\Lib\\site-packages\\pyarrow\\io.pxi:992\u001b[0m, in \u001b[0;36mpyarrow.lib.OSFile.__cinit__\u001b[1;34m()\u001b[0m\n",
      "File \u001b[1;32mstringsource:15\u001b[0m, in \u001b[0;36mstring.from_py.__pyx_convert_string_from_py_std__in_string\u001b[1;34m()\u001b[0m\n",
      "\u001b[1;31mTypeError\u001b[0m: expected bytes, WindowsPath found"
     ]
    }
   ],
   "source": [
    "# class SerializedFeatures(pa.ExtensionType):\n",
    "#     def __init__(self):\n",
    "#         pa.ExtensionType.__Init__\n",
    "\n",
    "# class SerializedFeatures(pa.PyExtensionType):\n",
    "#     def __init__(self):\n",
    "\n",
    "class SerializedFeatures(pa.ExtensionType):\n",
    "\n",
    "    def __init__(self, ):\n",
    "        self.dim1 = val.dim1\n",
    "        self.dim2 = val.dim2\n",
    "        pa.ExtensionType.__init__(self, val, \"SerializedFeatures\")\n",
    "\n",
    "    def __arrow_ext_serialize__(self):\n",
    "        # since we don't have a parameterized type, we don't need extra\n",
    "        # metadata to be deserialized\n",
    "        # return b''\n",
    "        return {'dim1': self.dim1, 'dim2': self.dim2}\n",
    "\n",
    "    @classmethod\n",
    "    def __arrow_ext_deserialize__(self, storage_type, serialized):\n",
    "        # return an instance of this subclass given the serialized\n",
    "        # metadata.\n",
    "        # return UuidType()\n",
    "        return SerializedFeatures(serialized['dim1'], serialized['dim2'])\n",
    "\n",
    "# def _serialize_SerializedFeatures(val):\n",
    "#     return {'dim1': val.dim1, 'dim2': val.dim2}\n",
    "\n",
    "# def _deserialize_SerializedFeatures(data):\n",
    "#     return SerializedFeatures(data['dim1'], data['dim2'])\n",
    "\n",
    "sf_type = SerializedFeatures()"
   ]
  },
  {
   "cell_type": "code",
   "execution_count": 18,
   "metadata": {},
   "outputs": [
    {
     "data": {
      "text/plain": [
       "[1, 2, 3]"
      ]
     },
     "execution_count": 18,
     "metadata": {},
     "output_type": "execute_result"
    }
   ],
   "source": [
    "restored_val"
   ]
  },
  {
   "cell_type": "code",
   "execution_count": null,
   "metadata": {},
   "outputs": [
    {
     "data": {
      "text/plain": [
       "0.31766209256113176"
      ]
     },
     "execution_count": 31,
     "metadata": {},
     "output_type": "execute_result"
    }
   ],
   "source": [
    "df[\"train_x\"][0][1]"
   ]
  }
 ],
 "metadata": {
  "kernelspec": {
   "display_name": "cfar",
   "language": "python",
   "name": "python3"
  },
  "language_info": {
   "codemirror_mode": {
    "name": "ipython",
    "version": 3
   },
   "file_extension": ".py",
   "mimetype": "text/x-python",
   "name": "python",
   "nbconvert_exporter": "python",
   "pygments_lexer": "ipython3",
   "version": "3.11.4"
  },
  "orig_nbformat": 4
 },
 "nbformat": 4,
 "nbformat_minor": 2
}
