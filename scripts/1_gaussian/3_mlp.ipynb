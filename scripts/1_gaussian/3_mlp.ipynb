{
 "cells": [
  {
   "cell_type": "code",
   "execution_count": 1,
   "metadata": {},
   "outputs": [],
   "source": [
    "import h5py\n",
    "from utils import (\n",
    "    results_dir,\n",
    "    data_dir,\n",
    ")"
   ]
  },
  {
   "cell_type": "code",
   "execution_count": 2,
   "metadata": {},
   "outputs": [],
   "source": [
    "EXP_NAME = \"1_gaussian\"\n",
    "DATA_FILE = \"gaussians.jld2\"\n",
    "\n",
    "# Point to the data and results directories for this disease\n",
    "local_data_dir = data_dir(EXP_NAME)\n",
    "local_results_dir = results_dir(EXP_NAME)\n",
    "def input_dir(*args): return local_data_dir.joinpath(*args)\n",
    "def output_dir(*args): return local_results_dir.joinpath(*args)\n",
    "data_file = output_dir(DATA_FILE)"
   ]
  },
  {
   "cell_type": "code",
   "execution_count": 3,
   "metadata": {},
   "outputs": [],
   "source": [
    "f = h5py.File(data_file, 'r')\n",
    "ms = f[\"ms\"]"
   ]
  },
  {
   "cell_type": "code",
   "execution_count": 4,
   "metadata": {},
   "outputs": [
    {
     "data": {
      "text/plain": [
       "['_types', 'ms']"
      ]
     },
     "execution_count": 4,
     "metadata": {},
     "output_type": "execute_result"
    }
   ],
   "source": [
    "ms\n",
    "list(f.keys())"
   ]
  },
  {
   "cell_type": "code",
   "execution_count": 5,
   "metadata": {},
   "outputs": [
    {
     "data": {
      "text/plain": [
       "['00000001',\n",
       " '00000002',\n",
       " '00000003',\n",
       " '00000004',\n",
       " '00000005',\n",
       " '00000006',\n",
       " '00000007',\n",
       " '00000008',\n",
       " '00000009',\n",
       " '00000010',\n",
       " '00000011',\n",
       " '00000012']"
      ]
     },
     "execution_count": 5,
     "metadata": {},
     "output_type": "execute_result"
    }
   ],
   "source": [
    "list(f[\"_types\"].keys())"
   ]
  },
  {
   "cell_type": "code",
   "execution_count": 6,
   "metadata": {},
   "outputs": [],
   "source": [
    "m = f[\"ms\"][()]"
   ]
  },
  {
   "cell_type": "code",
   "execution_count": 18,
   "metadata": {},
   "outputs": [
    {
     "data": {
      "text/plain": [
       "<HDF5 object reference>"
      ]
     },
     "execution_count": 18,
     "metadata": {},
     "output_type": "execute_result"
    }
   ],
   "source": [
    "m[2]"
   ]
  },
  {
   "cell_type": "code",
   "execution_count": 20,
   "metadata": {},
   "outputs": [],
   "source": [
    "# config = h5py.File(output_dir(\"dict.jld2\"), 'r')[\"config\"]\n",
    "# config\n",
    "# import pyarrow as pa\n",
    "import pandas as pd\n",
    "\n",
    "function load_\n",
    "df = pd.read_feather(output_dir(\"df.arrow\"))\n"
   ]
  },
  {
   "cell_type": "code",
   "execution_count": 31,
   "metadata": {},
   "outputs": [
    {
     "data": {
      "text/plain": [
       "0.31766209256113176"
      ]
     },
     "execution_count": 31,
     "metadata": {},
     "output_type": "execute_result"
    }
   ],
   "source": [
    "df[\"train_x\"][0][1]"
   ]
  }
 ],
 "metadata": {
  "kernelspec": {
   "display_name": "cfar",
   "language": "python",
   "name": "python3"
  },
  "language_info": {
   "codemirror_mode": {
    "name": "ipython",
    "version": 3
   },
   "file_extension": ".py",
   "mimetype": "text/x-python",
   "name": "python",
   "nbconvert_exporter": "python",
   "pygments_lexer": "ipython3",
   "version": "3.11.4"
  },
  "orig_nbformat": 4
 },
 "nbformat": 4,
 "nbformat_minor": 2
}
